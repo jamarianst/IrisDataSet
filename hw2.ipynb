{
 "cells": [
  {
   "cell_type": "code",
   "execution_count": 2,
   "id": "39015329-05ea-49fb-837a-66d3c033e045",
   "metadata": {},
   "outputs": [
    {
     "name": "stdout",
     "output_type": "stream",
     "text": [
      "     5.1  3.5  1.4  0.2     Iris-setosa\n",
      "0    4.9  3.0  1.4  0.2     Iris-setosa\n",
      "1    4.7  3.2  1.3  0.2     Iris-setosa\n",
      "2    4.6  3.1  1.5  0.2     Iris-setosa\n",
      "3    5.0  3.6  1.4  0.2     Iris-setosa\n",
      "4    5.4  3.9  1.7  0.4     Iris-setosa\n",
      "..   ...  ...  ...  ...             ...\n",
      "144  6.7  3.0  5.2  2.3  Iris-virginica\n",
      "145  6.3  2.5  5.0  1.9  Iris-virginica\n",
      "146  6.5  3.0  5.2  2.0  Iris-virginica\n",
      "147  6.2  3.4  5.4  2.3  Iris-virginica\n",
      "148  5.9  3.0  5.1  1.8  Iris-virginica\n",
      "\n",
      "[149 rows x 5 columns]\n"
     ]
    }
   ],
   "source": [
    "import pandas as pd\n",
    "\n",
    "df = pd.read_csv(\"iris.data\")\n",
    "\n",
    "print(df)"
   ]
  },
  {
   "cell_type": "code",
   "execution_count": 1,
   "id": "83f4cb72-3986-43cc-8eaa-b2647c0d593c",
   "metadata": {},
   "outputs": [
    {
     "name": "stdout",
     "output_type": "stream",
     "text": [
      "A) This dataset is about different types of iris flowers. It includes measurements like petal and sepal size, and it's used to figure out which species a flower belongs to.\n"
     ]
    }
   ],
   "source": [
    "print(\"A) This dataset is about different types of iris flowers. It includes measurements like petal and sepal size, and it's used to figure out which species a flower belongs to.\")"
   ]
  },
  {
   "cell_type": "code",
   "execution_count": 11,
   "id": "f539ed51-1fb8-47dd-835a-a9ee9ca9fab3",
   "metadata": {},
   "outputs": [
    {
     "data": {
      "text/plain": [
       "150"
      ]
     },
     "execution_count": 11,
     "metadata": {},
     "output_type": "execute_result"
    }
   ],
   "source": [
    "import pandas as pd\n",
    "df = pd.read_csv(\"iris.data\", header = None)\n",
    "len(df)"
   ]
  },
  {
   "cell_type": "code",
   "execution_count": 9,
   "id": "eeda6f24-9aa9-43d9-9641-afeb06f7a63c",
   "metadata": {},
   "outputs": [
    {
     "name": "stdout",
     "output_type": "stream",
     "text": [
      "B) The Iris dataset contains 150 rows\n"
     ]
    }
   ],
   "source": [
    "print(\"B) The Iris dataset contains 150 rows\")"
   ]
  },
  {
   "cell_type": "code",
   "execution_count": 12,
   "id": "9d380e47-5096-4234-90b5-869619fe1a6b",
   "metadata": {},
   "outputs": [
    {
     "data": {
      "text/plain": [
       "5"
      ]
     },
     "execution_count": 12,
     "metadata": {},
     "output_type": "execute_result"
    }
   ],
   "source": [
    "import pandas as pd\n",
    "df = pd.read_csv(\"iris.data\",header=None)\n",
    "df.shape[1]"
   ]
  },
  {
   "cell_type": "code",
   "execution_count": 13,
   "id": "5daf04fd-fb69-4efe-99fa-aab1fd723a70",
   "metadata": {},
   "outputs": [
    {
     "name": "stdout",
     "output_type": "stream",
     "text": [
      "C) The Iris dataset contains 5 columns\n"
     ]
    }
   ],
   "source": [
    "print(\"C) The Iris dataset contains 5 columns\")"
   ]
  },
  {
   "cell_type": "code",
   "execution_count": 14,
   "id": "25f77929-da54-4454-843a-085808200f5d",
   "metadata": {},
   "outputs": [
    {
     "data": {
      "text/plain": [
       "array(['Iris-setosa', 'Iris-versicolor', 'Iris-virginica'], dtype=object)"
      ]
     },
     "execution_count": 14,
     "metadata": {},
     "output_type": "execute_result"
    }
   ],
   "source": [
    "import pandas as pd\n",
    "df = pd.read_csv(\"iris.data\",header=None)\n",
    "df[4].unique()"
   ]
  },
  {
   "cell_type": "code",
   "execution_count": 15,
   "id": "958d1357-2601-419f-b019-50fb930c009d",
   "metadata": {},
   "outputs": [
    {
     "name": "stdout",
     "output_type": "stream",
     "text": [
      "D) The Dataset contains 3 classes. Setosa, Versicolor, Virginica\n"
     ]
    }
   ],
   "source": [
    "print(\"D) The Dataset contains 3 classes. Setosa, Versicolor, Virginica\")"
   ]
  },
  {
   "cell_type": "code",
   "execution_count": 18,
   "id": "743b6f44-2539-40fd-8ae6-df4b25b77ad5",
   "metadata": {},
   "outputs": [
    {
     "data": {
      "text/plain": [
       "Index(['sepal_length', 'sepal_width', 'petal_length', 'petal_width',\n",
       "       'species'],\n",
       "      dtype='object')"
      ]
     },
     "execution_count": 18,
     "metadata": {},
     "output_type": "execute_result"
    }
   ],
   "source": [
    "import pandas as pd\n",
    "df = pd.read_csv(\"iris.data\",header=None)\n",
    "df.columns = ['sepal_length', 'sepal_width', 'petal_length', 'petal_width', 'species']\n",
    "df.columns"
   ]
  },
  {
   "cell_type": "code",
   "execution_count": 20,
   "id": "4c856a92-6f0e-49ce-b3f2-7f2668624738",
   "metadata": {},
   "outputs": [
    {
     "name": "stdout",
     "output_type": "stream",
     "text": [
      "E) The column represents. sepal_length = sepal length in cm, sepal_width = sepal width in cm, petal_length = petal length in cm, petal width = petal width in cm. Species = type of flower\n"
     ]
    }
   ],
   "source": [
    "print(\"E) The column represents. sepal_length = sepal length in cm, sepal_width = sepal width in cm, petal_length = petal length in cm, petal width = petal width in cm. Species = type of flower\")"
   ]
  },
  {
   "cell_type": "code",
   "execution_count": 23,
   "id": "bd642c29-a0b3-4a24-8bc3-965c759eebf6",
   "metadata": {},
   "outputs": [
    {
     "data": {
      "text/plain": [
       "sepal_length    4.3\n",
       "sepal_width     2.0\n",
       "petal_length    1.0\n",
       "petal_width     0.1\n",
       "dtype: float64"
      ]
     },
     "execution_count": 23,
     "metadata": {},
     "output_type": "execute_result"
    }
   ],
   "source": [
    "import pandas as pd\n",
    "df = pd.read_csv(\"iris.data\",header=None)\n",
    "df.columns = ['sepal_length', 'sepal_width', 'petal_length', 'petal_width', 'species']\n",
    "df[['sepal_length', 'sepal_width', 'petal_length', 'petal_width']].min()\n"
   ]
  },
  {
   "cell_type": "code",
   "execution_count": 24,
   "id": "dbc991c6-655d-47e2-b98d-18e100903d2c",
   "metadata": {},
   "outputs": [
    {
     "name": "stdout",
     "output_type": "stream",
     "text": [
      "A) The min value for sepal_length = 4.3, The min value for sepal_width = 2.0, The min value for petal_length = 1.0, and The min value for petal_width = 0.1\n"
     ]
    }
   ],
   "source": [
    "print(\"A) The min value for sepal_length = 4.3, The min value for sepal_width = 2.0, The min value for petal_length = 1.0, and The min value for petal_width = 0.1\")\n"
   ]
  },
  {
   "cell_type": "code",
   "execution_count": 25,
   "id": "510c035f-228d-40f0-a9f1-27bdb7e30ec3",
   "metadata": {},
   "outputs": [
    {
     "data": {
      "text/plain": [
       "sepal_length    7.9\n",
       "sepal_width     4.4\n",
       "petal_length    6.9\n",
       "petal_width     2.5\n",
       "dtype: float64"
      ]
     },
     "execution_count": 25,
     "metadata": {},
     "output_type": "execute_result"
    }
   ],
   "source": [
    "import pandas as pd\n",
    "df = pd.read_csv(\"iris.data\",header=None)\n",
    "df.columns = ['sepal_length', 'sepal_width', 'petal_length', 'petal_width', 'species']\n",
    "df[['sepal_length', 'sepal_width', 'petal_length', 'petal_width']].max()"
   ]
  },
  {
   "cell_type": "code",
   "execution_count": 26,
   "id": "dad997fd-e704-4b06-ad5f-93cb879563b8",
   "metadata": {},
   "outputs": [
    {
     "name": "stdout",
     "output_type": "stream",
     "text": [
      "B) The max value for sepal_length = 7.9, The max value for sepal_width = 4.4, The max value for petal_length = 6.9, and The max value for petal_width = 2.5\n"
     ]
    }
   ],
   "source": [
    "print(\"B) The max value for sepal_length = 7.9, The max value for sepal_width = 4.4, The max value for petal_length = 6.9, and The max value for petal_width = 2.5\")"
   ]
  },
  {
   "cell_type": "code",
   "execution_count": 27,
   "id": "9ac160d3-446d-4e34-82ee-f49295355a9e",
   "metadata": {},
   "outputs": [
    {
     "data": {
      "text/plain": [
       "sepal_length    5.80\n",
       "sepal_width     3.00\n",
       "petal_length    4.35\n",
       "petal_width     1.30\n",
       "dtype: float64"
      ]
     },
     "execution_count": 27,
     "metadata": {},
     "output_type": "execute_result"
    }
   ],
   "source": [
    "import pandas as pd\n",
    "df = pd.read_csv(\"iris.data\",header=None)\n",
    "df.columns = ['sepal_length', 'sepal_width', 'petal_length', 'petal_width', 'species']\n",
    "df[['sepal_length', 'sepal_width', 'petal_length', 'petal_width']].median()"
   ]
  },
  {
   "cell_type": "code",
   "execution_count": 28,
   "id": "d1a68b5b-fd90-4e78-b264-1aee182109f5",
   "metadata": {},
   "outputs": [
    {
     "name": "stdout",
     "output_type": "stream",
     "text": [
      "C)  The median for sepal_length = 5.80 , The median for sepal_width = 3.00, The median for petal_length = 4.35, and The median for petal_width = 1.3\n"
     ]
    }
   ],
   "source": [
    "print(\"C)  The median for sepal_length = 5.80 , The median for sepal_width = 3.00, The median for petal_length = 4.35, and The median for petal_width = 1.3\")"
   ]
  },
  {
   "cell_type": "code",
   "execution_count": 29,
   "id": "f0d515fd-0ebb-4e06-913f-2e882bda53cd",
   "metadata": {},
   "outputs": [
    {
     "data": {
      "text/plain": [
       "sepal_length    5.843333\n",
       "sepal_width     3.054000\n",
       "petal_length    3.758667\n",
       "petal_width     1.198667\n",
       "dtype: float64"
      ]
     },
     "execution_count": 29,
     "metadata": {},
     "output_type": "execute_result"
    }
   ],
   "source": [
    "import pandas as pd\n",
    "df = pd.read_csv(\"iris.data\",header=None)\n",
    "df.columns = ['sepal_length', 'sepal_width', 'petal_length', 'petal_width', 'species']\n",
    "df[['sepal_length', 'sepal_width', 'petal_length', 'petal_width']].mean()"
   ]
  },
  {
   "cell_type": "code",
   "execution_count": 30,
   "id": "1b94ad88-6cef-47af-8054-fba95f2eecc0",
   "metadata": {},
   "outputs": [
    {
     "name": "stdout",
     "output_type": "stream",
     "text": [
      "D) The mean value for sepal_length = 5.843333 , The mean value for sepal_width = 3.054000, The mean value for petal_length = 3.758667, and The mean value for petal_width = 1.198667\n"
     ]
    }
   ],
   "source": [
    "print(\"D) The mean value for sepal_length = 5.843333 , The mean value for sepal_width = 3.054000, The mean value for petal_length = 3.758667, and The mean value for petal_width = 1.198667\")\n"
   ]
  },
  {
   "cell_type": "code",
   "execution_count": 31,
   "id": "dd98e79a-3337-42ea-ad9f-67a8024a8c20",
   "metadata": {},
   "outputs": [
    {
     "data": {
      "text/plain": [
       "sepal_length    0.685694\n",
       "sepal_width     0.188004\n",
       "petal_length    3.113179\n",
       "petal_width     0.582414\n",
       "dtype: float64"
      ]
     },
     "execution_count": 31,
     "metadata": {},
     "output_type": "execute_result"
    }
   ],
   "source": [
    "import pandas as pd\n",
    "df = pd.read_csv(\"iris.data\",header=None)\n",
    "df.columns = ['sepal_length', 'sepal_width', 'petal_length', 'petal_width', 'species']\n",
    "df[['sepal_length', 'sepal_width', 'petal_length', 'petal_width']].var()"
   ]
  },
  {
   "cell_type": "code",
   "execution_count": 32,
   "id": "3c913de6-3893-43b5-a0cf-38c5b494becd",
   "metadata": {},
   "outputs": [
    {
     "name": "stdout",
     "output_type": "stream",
     "text": [
      "E) The variance value for sepal_length = 0.685694 , The variance value for sepal_width = 0.188004, The variance value for petal_length = 3.113179, and The variance value for petal_width = 0.582414\n"
     ]
    }
   ],
   "source": [
    "print(\"E) The variance value for sepal_length = 0.685694 , The variance value for sepal_width = 0.188004, The variance value for petal_length = 3.113179, and The variance value for petal_width = 0.582414\")"
   ]
  },
  {
   "cell_type": "code",
   "execution_count": 33,
   "id": "0bb1906e-a94d-493f-8a50-664a7f3e580d",
   "metadata": {},
   "outputs": [
    {
     "data": {
      "text/plain": [
       "sepal_length    0.828066\n",
       "sepal_width     0.433594\n",
       "petal_length    1.764420\n",
       "petal_width     0.763161\n",
       "dtype: float64"
      ]
     },
     "execution_count": 33,
     "metadata": {},
     "output_type": "execute_result"
    }
   ],
   "source": [
    "import pandas as pd\n",
    "df = pd.read_csv(\"iris.data\",header=None)\n",
    "df.columns = ['sepal_length', 'sepal_width', 'petal_length', 'petal_width', 'species']\n",
    "df[['sepal_length', 'sepal_width', 'petal_length', 'petal_width']].std()"
   ]
  },
  {
   "cell_type": "code",
   "execution_count": 34,
   "id": "0043ff6a-087c-4880-804f-2035e3457cf3",
   "metadata": {},
   "outputs": [
    {
     "name": "stdout",
     "output_type": "stream",
     "text": [
      "F) The standard dev for sepal_length = 0.828066 , The standard dev for sepal_width = 0.433594, The standard dev for petal_length = 1.764420, and The standard dev for petal_width = 0.763161 \n"
     ]
    }
   ],
   "source": [
    "print(\"F) The standard dev for sepal_length = 0.828066 , The standard dev for sepal_width = 0.433594, The standard dev for petal_length = 1.764420, and The standard dev for petal_width = 0.763161 \")\n"
   ]
  },
  {
   "cell_type": "code",
   "execution_count": 36,
   "id": "28bdd6b4-c672-46f9-ab7c-a010cd2be31d",
   "metadata": {},
   "outputs": [
    {
     "data": {
      "text/html": [
       "<div>\n",
       "<style scoped>\n",
       "    .dataframe tbody tr th:only-of-type {\n",
       "        vertical-align: middle;\n",
       "    }\n",
       "\n",
       "    .dataframe tbody tr th {\n",
       "        vertical-align: top;\n",
       "    }\n",
       "\n",
       "    .dataframe thead th {\n",
       "        text-align: right;\n",
       "    }\n",
       "</style>\n",
       "<table border=\"1\" class=\"dataframe\">\n",
       "  <thead>\n",
       "    <tr style=\"text-align: right;\">\n",
       "      <th></th>\n",
       "      <th>sepal_length</th>\n",
       "      <th>sepal_width</th>\n",
       "      <th>petal_length</th>\n",
       "      <th>petal_width</th>\n",
       "    </tr>\n",
       "  </thead>\n",
       "  <tbody>\n",
       "    <tr>\n",
       "      <th>sepal_length</th>\n",
       "      <td>0.685694</td>\n",
       "      <td>-0.039268</td>\n",
       "      <td>1.273682</td>\n",
       "      <td>0.516904</td>\n",
       "    </tr>\n",
       "    <tr>\n",
       "      <th>sepal_width</th>\n",
       "      <td>-0.039268</td>\n",
       "      <td>0.188004</td>\n",
       "      <td>-0.321713</td>\n",
       "      <td>-0.117981</td>\n",
       "    </tr>\n",
       "    <tr>\n",
       "      <th>petal_length</th>\n",
       "      <td>1.273682</td>\n",
       "      <td>-0.321713</td>\n",
       "      <td>3.113179</td>\n",
       "      <td>1.296387</td>\n",
       "    </tr>\n",
       "    <tr>\n",
       "      <th>petal_width</th>\n",
       "      <td>0.516904</td>\n",
       "      <td>-0.117981</td>\n",
       "      <td>1.296387</td>\n",
       "      <td>0.582414</td>\n",
       "    </tr>\n",
       "  </tbody>\n",
       "</table>\n",
       "</div>"
      ],
      "text/plain": [
       "              sepal_length  sepal_width  petal_length  petal_width\n",
       "sepal_length      0.685694    -0.039268      1.273682     0.516904\n",
       "sepal_width      -0.039268     0.188004     -0.321713    -0.117981\n",
       "petal_length      1.273682    -0.321713      3.113179     1.296387\n",
       "petal_width       0.516904    -0.117981      1.296387     0.582414"
      ]
     },
     "execution_count": 36,
     "metadata": {},
     "output_type": "execute_result"
    }
   ],
   "source": [
    "import pandas as pd\n",
    "df = pd.read_csv(\"iris.data\",header=None)\n",
    "df.columns = ['sepal_length', 'sepal_width', 'petal_length', 'petal_width', 'species']\n",
    "df[['sepal_length', 'sepal_width', 'petal_length', 'petal_width']].cov()"
   ]
  },
  {
   "cell_type": "code",
   "execution_count": 37,
   "id": "702986ef-27e2-484e-a7ba-39e19c38b877",
   "metadata": {},
   "outputs": [
    {
     "name": "stdout",
     "output_type": "stream",
     "text": [
      "A) Shown above is the covariance matrix\n"
     ]
    }
   ],
   "source": [
    "print(\"A) Shown above is the covariance matrix\")"
   ]
  },
  {
   "cell_type": "code",
   "execution_count": 40,
   "id": "6cb9796c-d510-4e06-9d98-589956f833af",
   "metadata": {},
   "outputs": [
    {
     "data": {
      "text/html": [
       "<div>\n",
       "<style scoped>\n",
       "    .dataframe tbody tr th:only-of-type {\n",
       "        vertical-align: middle;\n",
       "    }\n",
       "\n",
       "    .dataframe tbody tr th {\n",
       "        vertical-align: top;\n",
       "    }\n",
       "\n",
       "    .dataframe thead th {\n",
       "        text-align: right;\n",
       "    }\n",
       "</style>\n",
       "<table border=\"1\" class=\"dataframe\">\n",
       "  <thead>\n",
       "    <tr style=\"text-align: right;\">\n",
       "      <th></th>\n",
       "      <th>sepal_length</th>\n",
       "      <th>sepal_width</th>\n",
       "      <th>petal_length</th>\n",
       "      <th>petal_width</th>\n",
       "    </tr>\n",
       "  </thead>\n",
       "  <tbody>\n",
       "    <tr>\n",
       "      <th>sepal_length</th>\n",
       "      <td>1.000000</td>\n",
       "      <td>-0.109369</td>\n",
       "      <td>0.871754</td>\n",
       "      <td>0.817954</td>\n",
       "    </tr>\n",
       "    <tr>\n",
       "      <th>sepal_width</th>\n",
       "      <td>-0.109369</td>\n",
       "      <td>1.000000</td>\n",
       "      <td>-0.420516</td>\n",
       "      <td>-0.356544</td>\n",
       "    </tr>\n",
       "    <tr>\n",
       "      <th>petal_length</th>\n",
       "      <td>0.871754</td>\n",
       "      <td>-0.420516</td>\n",
       "      <td>1.000000</td>\n",
       "      <td>0.962757</td>\n",
       "    </tr>\n",
       "    <tr>\n",
       "      <th>petal_width</th>\n",
       "      <td>0.817954</td>\n",
       "      <td>-0.356544</td>\n",
       "      <td>0.962757</td>\n",
       "      <td>1.000000</td>\n",
       "    </tr>\n",
       "  </tbody>\n",
       "</table>\n",
       "</div>"
      ],
      "text/plain": [
       "              sepal_length  sepal_width  petal_length  petal_width\n",
       "sepal_length      1.000000    -0.109369      0.871754     0.817954\n",
       "sepal_width      -0.109369     1.000000     -0.420516    -0.356544\n",
       "petal_length      0.871754    -0.420516      1.000000     0.962757\n",
       "petal_width       0.817954    -0.356544      0.962757     1.000000"
      ]
     },
     "execution_count": 40,
     "metadata": {},
     "output_type": "execute_result"
    }
   ],
   "source": [
    "import pandas as pd\n",
    "df = pd.read_csv(\"iris.data\",header=None)\n",
    "df.columns = ['sepal_length', 'sepal_width', 'petal_length', 'petal_width', 'species']\n",
    "df[['sepal_length', 'sepal_width', 'petal_length', 'petal_width']].corr()"
   ]
  },
  {
   "cell_type": "code",
   "execution_count": 41,
   "id": "4bb2d92f-8079-451d-ac54-4603726360cf",
   "metadata": {},
   "outputs": [
    {
     "name": "stdout",
     "output_type": "stream",
     "text": [
      "B) Shown above is the correlation matrix\n"
     ]
    }
   ],
   "source": [
    "print(\"B) Shown above is the correlation matrix\")"
   ]
  },
  {
   "cell_type": "code",
   "execution_count": 42,
   "id": "35b5ac9e-1066-4353-892d-a29335c152af",
   "metadata": {},
   "outputs": [
    {
     "name": "stdout",
     "output_type": "stream",
     "text": [
      "A)The pair with the strongest correlation is petal_length and petal_width with a correlation of 0.962757\n",
      "B) The pair with the strongest negative correlation is petal_length and sepal_width with a correlation of -0.420516\n",
      "C) A strong positive correlation means that the pairs have a strong linear relationship as one increases, so does the other; a strong negative correlation means that they have a strong negative correaltion when one increases, the other decreases\n",
      "D) Correlations near 0 means that there is little to no linear relationship; they do not increase or decrease near each other\n"
     ]
    }
   ],
   "source": [
    "print(\"A)The pair with the strongest correlation is petal_length and petal_width with a correlation of 0.962757\")\n",
    "print(\"B) The pair with the strongest negative correlation is petal_length and sepal_width with a correlation of -0.420516\")\n",
    "print(\"C) A strong positive correlation means that the pairs have a strong linear relationship as one increases, so does the other; a strong negative correlation means that they have a strong negative correaltion when one increases, the other decreases\")\n",
    "print(\"D) Correlations near 0 means that there is little to no linear relationship; they do not increase or decrease near each other\")"
   ]
  },
  {
   "cell_type": "code",
   "execution_count": 44,
   "id": "ff21147d-047c-4fd9-b905-f9224ec809d4",
   "metadata": {},
   "outputs": [
    {
     "data": {
      "image/png": "[encoded data removed]",
      "text/plain": [
       "<Figure size 600x400 with 1 Axes>"
      ]
     },
     "metadata": {},
     "output_type": "display_data"
    },
    {
     "data": {
      "image/png": "[encoded data removed]",
      "text/plain": [
       "<Figure size 600x400 with 1 Axes>"
      ]
     },
     "metadata": {},
     "output_type": "display_data"
    },
    {
     "data": {
      "image/png": "[encoded data removed]",
      "text/plain": [
       "<Figure size 600x400 with 1 Axes>"
      ]
     },
     "metadata": {},
     "output_type": "display_data"
    },
    {
     "data": {
      "image/png": "[encoded data removed]",
      "text/plain": [
       "<Figure size 600x400 with 1 Axes>"
      ]
     },
     "metadata": {},
     "output_type": "display_data"
    },
    {
     "data": {
      "image/png": "[encoded data removed]",
      "text/plain": [
       "<Figure size 600x400 with 1 Axes>"
      ]
     },
     "metadata": {},
     "output_type": "display_data"
    },
    {
     "data": {
      "image/png": "[encoded data removed]",
      "text/plain": [
       "<Figure size 600x400 with 1 Axes>"
      ]
     },
     "metadata": {},
     "output_type": "display_data"
    },
    {
     "data": {
      "image/png": "[encoded data removed]",
      "text/plain": [
       "<Figure size 600x400 with 1 Axes>"
      ]
     },
     "metadata": {},
     "output_type": "display_data"
    },
    {
     "data": {
      "image/png": "[encoded data removed]",
      "text/plain": [
       "<Figure size 600x400 with 1 Axes>"
      ]
     },
     "metadata": {},
     "output_type": "display_data"
    },
    {
     "data": {
      "image/png": "[encoded data removed]",
      "text/plain": [
       "<Figure size 600x400 with 1 Axes>"
      ]
     },
     "metadata": {},
     "output_type": "display_data"
    },
    {
     "data": {
      "image/png": "[encoded data removed]",
      "text/plain": [
       "<Figure size 600x400 with 1 Axes>"
      ]
     },
     "metadata": {},
     "output_type": "display_data"
    },
    {
     "data": {
      "image/png": "[encoded data removed]",
      "text/plain": [
       "<Figure size 600x400 with 1 Axes>"
      ]
     },
     "metadata": {},
     "output_type": "display_data"
    },
    {
     "data": {
      "image/png": "[encoded data removed]",
      "text/plain": [
       "<Figure size 600x400 with 1 Axes>"
      ]
     },
     "metadata": {},
     "output_type": "display_data"
    }
   ],
   "source": [
    "import pandas as pd\n",
    "import matplotlib.pyplot as plt \n",
    "\n",
    "df = pd.read_csv(\"iris.data\",header=None)\n",
    "df. columns = ['sepal_length', 'sepal_width', 'petal_length', 'petal_width', 'species']\n",
    "setosa = df[df['species'] == 'Iris-setosa']\n",
    "virginica = df[df['species'] == 'Iris-virginica']\n",
    "versicolor = df[df['species'] == 'Iris-versicolor']\n",
    "\n",
    "species_list = [('Iris-setosa', setosa), ('Iris-versicolor', versicolor), ('Iris-virginica', virginica)]\n",
    "columns = ['sepal_length', 'sepal_width', 'petal_length', 'petal_width']\n",
    "\n",
    "for species_name, data in species_list:\n",
    "    for col in columns:\n",
    "        plt.figure(figsize=(6, 4))\n",
    "        plt.hist(data[col], bins=10, color='skyblue', edgecolor='black')\n",
    "        plt.title(f'{species_name} - {col}')\n",
    "        plt.xlabel(col)\n",
    "        plt.ylabel('Frequency')\n",
    "        plt.tight_layout()\n",
    "        plt.show()"
   ]
  },
  {
   "cell_type": "code",
   "execution_count": 47,
   "id": "aee70bfb-eeaf-45fd-800e-d1e74a410d27",
   "metadata": {},
   "outputs": [
    {
     "name": "stdout",
     "output_type": "stream",
     "text": [
      "Setosa Min:\n",
      " sepal_length    4.3\n",
      "sepal_width     2.3\n",
      "petal_length    1.0\n",
      "petal_width     0.1\n",
      "dtype: float64 \n",
      "\n",
      "Versicolor Min:\n",
      " sepal_length    4.9\n",
      "sepal_width     2.0\n",
      "petal_length    3.0\n",
      "petal_width     1.0\n",
      "dtype: float64 \n",
      "\n",
      "Virginica Min:\n",
      " sepal_length    4.9\n",
      "sepal_width     2.2\n",
      "petal_length    4.5\n",
      "petal_width     1.4\n",
      "dtype: float64\n"
     ]
    }
   ],
   "source": [
    "import pandas as pd\n",
    "\n",
    "df = pd.read_csv(\"iris.data\",header=None)\n",
    "df. columns = ['sepal_length', 'sepal_width', 'petal_length', 'petal_width', 'species']\n",
    "setosa = df[df['species'] == 'Iris-setosa']\n",
    "virginica = df[df['species'] == 'Iris-virginica']\n",
    "versicolor = df[df['species'] == 'Iris-versicolor']\n",
    "\n",
    "print(\"Setosa Min:\\n\", setosa.min(numeric_only=True), \"\\n\")\n",
    "print(\"Versicolor Min:\\n\", versicolor.min(numeric_only=True), \"\\n\")\n",
    "print(\"Virginica Min:\\n\", virginica.min(numeric_only=True))\n"
   ]
  },
  {
   "cell_type": "code",
   "execution_count": 49,
   "id": "f7e9c29e-93d5-47c3-9e63-b8937cce2e24",
   "metadata": {},
   "outputs": [
    {
     "name": "stdout",
     "output_type": "stream",
     "text": [
      "A) Above are the minimum values for each iris species\n"
     ]
    }
   ],
   "source": [
    "print(\"A) Above are the minimum values for each iris species\")"
   ]
  },
  {
   "cell_type": "code",
   "execution_count": 66,
   "id": "e94e37d9-ff4a-414f-9ef1-dd687e42747a",
   "metadata": {},
   "outputs": [
    {
     "name": "stdout",
     "output_type": "stream",
     "text": [
      "Setosa Max:\n",
      " sepal_length    5.8\n",
      "sepal_width     4.4\n",
      "petal_length    1.9\n",
      "petal_width     0.6\n",
      "dtype: float64 \n",
      "\n",
      "Versicolor Max:\n",
      " sepal_length    7.0\n",
      "sepal_width     3.4\n",
      "petal_length    5.1\n",
      "petal_width     1.8\n",
      "dtype: float64 \n",
      "\n",
      "Virginica Max:\n",
      " sepal_length    7.9\n",
      "sepal_width     3.8\n",
      "petal_length    6.9\n",
      "petal_width     2.5\n",
      "dtype: float64 \n",
      "\n",
      "B) Above are the max values for each iris species\n"
     ]
    }
   ],
   "source": [
    "import pandas as pd\n",
    "\n",
    "df = pd.read_csv(\"iris.data\",header=None)\n",
    "df. columns = ['sepal_length', 'sepal_width', 'petal_length', 'petal_width', 'species']\n",
    "setosa = df[df['species'] == 'Iris-setosa']\n",
    "virginica = df[df['species'] == 'Iris-virginica']\n",
    "versicolor = df[df['species'] == 'Iris-versicolor']\n",
    "\n",
    "print(\"Setosa Max:\\n\", setosa.max(numeric_only=True), \"\\n\")\n",
    "print(\"Versicolor Max:\\n\", versicolor.max(numeric_only=True), \"\\n\")\n",
    "print(\"Virginica Max:\\n\", virginica.max(numeric_only=True), \"\\n\")\n",
    "print(\"B) Above are the max values for each iris species\")\n",
    "\n"
   ]
  },
  {
   "cell_type": "code",
   "execution_count": 67,
   "id": "13fdbceb-d222-4134-b483-1906f340f06b",
   "metadata": {},
   "outputs": [
    {
     "name": "stdout",
     "output_type": "stream",
     "text": [
      "Setosa Max:\n",
      " sepal_length    5.0\n",
      "sepal_width     3.4\n",
      "petal_length    1.5\n",
      "petal_width     0.2\n",
      "dtype: float64 \n",
      "\n",
      "Versicolor Max:\n",
      " sepal_length    5.90\n",
      "sepal_width     2.80\n",
      "petal_length    4.35\n",
      "petal_width     1.30\n",
      "dtype: float64 \n",
      "\n",
      "Virginica Max:\n",
      " sepal_length    6.50\n",
      "sepal_width     3.00\n",
      "petal_length    5.55\n",
      "petal_width     2.00\n",
      "dtype: float64 \n",
      "\n",
      "C) Above are the median values for each iris species\n"
     ]
    }
   ],
   "source": [
    "import pandas as pd\n",
    "\n",
    "df = pd.read_csv(\"iris.data\",header=None)\n",
    "df. columns = ['sepal_length', 'sepal_width', 'petal_length', 'petal_width', 'species']\n",
    "setosa = df[df['species'] == 'Iris-setosa']\n",
    "virginica = df[df['species'] == 'Iris-virginica']\n",
    "versicolor = df[df['species'] == 'Iris-versicolor']\n",
    "\n",
    "print(\"Setosa Max:\\n\", setosa.median(numeric_only=True), \"\\n\")\n",
    "print(\"Versicolor Max:\\n\", versicolor.median(numeric_only=True), \"\\n\")\n",
    "print(\"Virginica Max:\\n\", virginica.median(numeric_only=True), \"\\n\")\n",
    "print(\"C) Above are the median values for each iris species\")"
   ]
  },
  {
   "cell_type": "code",
   "execution_count": 68,
   "id": "f03f632f-0d36-4e1e-9d28-348940991b87",
   "metadata": {},
   "outputs": [
    {
     "name": "stdout",
     "output_type": "stream",
     "text": [
      "Setosa Mean:\n",
      " sepal_length    5.006\n",
      "sepal_width     3.418\n",
      "petal_length    1.464\n",
      "petal_width     0.244\n",
      "dtype: float64 \n",
      "\n",
      "Versicolor Mean:\n",
      " sepal_length    5.936\n",
      "sepal_width     2.770\n",
      "petal_length    4.260\n",
      "petal_width     1.326\n",
      "dtype: float64 \n",
      "\n",
      "Virginica Mean:\n",
      " sepal_length    6.588\n",
      "sepal_width     2.974\n",
      "petal_length    5.552\n",
      "petal_width     2.026\n",
      "dtype: float64 \n",
      "\n",
      "D) Above are the mean values for each iris species\n"
     ]
    }
   ],
   "source": [
    "import pandas as pd\n",
    "\n",
    "df = pd.read_csv(\"iris.data\",header=None)\n",
    "df. columns = ['sepal_length', 'sepal_width', 'petal_length', 'petal_width', 'species']\n",
    "setosa = df[df['species'] == 'Iris-setosa']\n",
    "virginica = df[df['species'] == 'Iris-virginica']\n",
    "versicolor = df[df['species'] == 'Iris-versicolor']\n",
    "\n",
    "print(\"Setosa Mean:\\n\", setosa.mean(numeric_only=True), \"\\n\")\n",
    "print(\"Versicolor Mean:\\n\", versicolor.mean(numeric_only=True), \"\\n\")\n",
    "print(\"Virginica Mean:\\n\", virginica.mean(numeric_only=True), \"\\n\")\n",
    "print(\"D) Above are the mean values for each iris species\")"
   ]
  },
  {
   "cell_type": "code",
   "execution_count": 69,
   "id": "fdfced76-03f3-4b63-a657-8f5497aa336a",
   "metadata": {},
   "outputs": [
    {
     "name": "stdout",
     "output_type": "stream",
     "text": [
      "Setosa Variance:\n",
      " sepal_length    0.124249\n",
      "sepal_width     0.145180\n",
      "petal_length    0.030106\n",
      "petal_width     0.011494\n",
      "dtype: float64 \n",
      "\n",
      "Versicolor Variance:\n",
      " sepal_length    0.266433\n",
      "sepal_width     0.098469\n",
      "petal_length    0.220816\n",
      "petal_width     0.039106\n",
      "dtype: float64 \n",
      "\n",
      "Virginica Variance:\n",
      " sepal_length    0.404343\n",
      "sepal_width     0.104004\n",
      "petal_length    0.304588\n",
      "petal_width     0.075433\n",
      "dtype: float64 \n",
      "\n",
      "E) Above are the variance values for each iris species\n"
     ]
    }
   ],
   "source": [
    "import pandas as pd\n",
    "\n",
    "df = pd.read_csv(\"iris.data\",header=None)\n",
    "df. columns = ['sepal_length', 'sepal_width', 'petal_length', 'petal_width', 'species']\n",
    "setosa = df[df['species'] == 'Iris-setosa']\n",
    "virginica = df[df['species'] == 'Iris-virginica']\n",
    "versicolor = df[df['species'] == 'Iris-versicolor']\n",
    "\n",
    "print(\"Setosa Variance:\\n\", setosa.var(numeric_only=True), \"\\n\")\n",
    "print(\"Versicolor Variance:\\n\", versicolor.var(numeric_only=True), \"\\n\")\n",
    "print(\"Virginica Variance:\\n\", virginica.var(numeric_only=True), \"\\n\")\n",
    "print(\"E) Above are the variance values for each iris species\")"
   ]
  },
  {
   "cell_type": "code",
   "execution_count": 70,
   "id": "41976a94-d857-4191-aa1d-530cb4d8d65d",
   "metadata": {},
   "outputs": [
    {
     "name": "stdout",
     "output_type": "stream",
     "text": [
      "Setosa Standard dev:\n",
      " sepal_length    0.352490\n",
      "sepal_width     0.381024\n",
      "petal_length    0.173511\n",
      "petal_width     0.107210\n",
      "dtype: float64 \n",
      "\n",
      "Versicolor Standard dev:\n",
      " sepal_length    0.516171\n",
      "sepal_width     0.313798\n",
      "petal_length    0.469911\n",
      "petal_width     0.197753\n",
      "dtype: float64 \n",
      "\n",
      "Virginica Standard dev:\n",
      " sepal_length    0.635880\n",
      "sepal_width     0.322497\n",
      "petal_length    0.551895\n",
      "petal_width     0.274650\n",
      "dtype: float64 \n",
      "\n",
      "F) Above are the standard dev values for each iris species\n"
     ]
    }
   ],
   "source": [
    "import pandas as pd\n",
    "\n",
    "df = pd.read_csv(\"iris.data\",header=None)\n",
    "df. columns = ['sepal_length', 'sepal_width', 'petal_length', 'petal_width', 'species']\n",
    "setosa = df[df['species'] == 'Iris-setosa']\n",
    "virginica = df[df['species'] == 'Iris-virginica']\n",
    "versicolor = df[df['species'] == 'Iris-versicolor']\n",
    "\n",
    "print(\"Setosa Standard dev:\\n\", setosa.std(numeric_only=True), \"\\n\")\n",
    "print(\"Versicolor Standard dev:\\n\", versicolor.std(numeric_only=True), \"\\n\")\n",
    "print(\"Virginica Standard dev:\\n\", virginica.std(numeric_only=True), \"\\n\")\n",
    "print(\"F) Above are the standard dev values for each iris species\")"
   ]
  },
  {
   "cell_type": "code",
   "execution_count": 73,
   "id": "1bf395b7-3dd4-4598-9169-932624a1fe6d",
   "metadata": {},
   "outputs": [
    {
     "name": "stdout",
     "output_type": "stream",
     "text": [
      "Setosa Correlation:\n",
      "               sepal_length  sepal_width  petal_length  petal_width\n",
      "sepal_length      1.000000     0.746780      0.263874     0.279092\n",
      "sepal_width       0.746780     1.000000      0.176695     0.279973\n",
      "petal_length      0.263874     0.176695      1.000000     0.306308\n",
      "petal_width       0.279092     0.279973      0.306308     1.000000 \n",
      "\n",
      "Versicolor Correlation:\n",
      "               sepal_length  sepal_width  petal_length  petal_width\n",
      "sepal_length      1.000000     0.525911      0.754049     0.546461\n",
      "sepal_width       0.525911     1.000000      0.560522     0.663999\n",
      "petal_length      0.754049     0.560522      1.000000     0.786668\n",
      "petal_width       0.546461     0.663999      0.786668     1.000000 \n",
      "\n",
      "Virginica Correlation:\n",
      "               sepal_length  sepal_width  petal_length  petal_width\n",
      "sepal_length      1.000000     0.457228      0.864225     0.281108\n",
      "sepal_width       0.457228     1.000000      0.401045     0.537728\n",
      "petal_length      0.864225     0.401045      1.000000     0.322108\n",
      "petal_width       0.281108     0.537728      0.322108     1.000000 \n",
      "\n",
      "A) Above are the correlation values for each iris species\n"
     ]
    }
   ],
   "source": [
    "import pandas as pd\n",
    "\n",
    "df = pd.read_csv(\"iris.data\",header=None)\n",
    "df. columns = ['sepal_length', 'sepal_width', 'petal_length', 'petal_width', 'species']\n",
    "setosa = df[df['species'] == 'Iris-setosa']\n",
    "virginica = df[df['species'] == 'Iris-virginica']\n",
    "versicolor = df[df['species'] == 'Iris-versicolor']\n",
    "\n",
    "print(\"Setosa Correlation:\\n\", setosa.corr(numeric_only=True), \"\\n\")\n",
    "print(\"Versicolor Correlation:\\n\", versicolor.corr(numeric_only=True), \"\\n\")\n",
    "print(\"Virginica Correlation:\\n\", virginica.corr(numeric_only=True), \"\\n\")\n",
    "print(\"A) Above are the correlation values for each iris species\")"
   ]
  },
  {
   "cell_type": "code",
   "execution_count": 74,
   "id": "482bade1-efef-4043-9679-ba4a7af9ce1b",
   "metadata": {
    "scrolled": true
   },
   "outputs": [
    {
     "name": "stdout",
     "output_type": "stream",
     "text": [
      "Setosa Covariance:\n",
      "               sepal_length  sepal_width  petal_length  petal_width\n",
      "sepal_length      0.124249     0.100298      0.016139     0.010547\n",
      "sepal_width       0.100298     0.145180      0.011682     0.011437\n",
      "petal_length      0.016139     0.011682      0.030106     0.005698\n",
      "petal_width       0.010547     0.011437      0.005698     0.011494 \n",
      "\n",
      "Versicolor Covariance:\n",
      "               sepal_length  sepal_width  petal_length  petal_width\n",
      "sepal_length      0.266433     0.085184      0.182898     0.055780\n",
      "sepal_width       0.085184     0.098469      0.082653     0.041204\n",
      "petal_length      0.182898     0.082653      0.220816     0.073102\n",
      "petal_width       0.055780     0.041204      0.073102     0.039106 \n",
      "\n",
      "Virginica Covariance:\n",
      "               sepal_length  sepal_width  petal_length  petal_width\n",
      "sepal_length      0.404343     0.093763      0.303290     0.049094\n",
      "sepal_width       0.093763     0.104004      0.071380     0.047629\n",
      "petal_length      0.303290     0.071380      0.304588     0.048824\n",
      "petal_width       0.049094     0.047629      0.048824     0.075433 \n",
      "\n",
      "B) Above are the covariance values for each iris species\n"
     ]
    }
   ],
   "source": [
    "import pandas as pd\n",
    "\n",
    "df = pd.read_csv(\"iris.data\",header=None)\n",
    "df. columns = ['sepal_length', 'sepal_width', 'petal_length', 'petal_width', 'species']\n",
    "setosa = df[df['species'] == 'Iris-setosa']\n",
    "virginica = df[df['species'] == 'Iris-virginica']\n",
    "versicolor = df[df['species'] == 'Iris-versicolor']\n",
    "\n",
    "print(\"Setosa Covariance:\\n\", setosa.cov(numeric_only=True), \"\\n\")\n",
    "print(\"Versicolor Covariance:\\n\", versicolor.cov(numeric_only=True), \"\\n\")\n",
    "print(\"Virginica Covariance:\\n\", virginica.cov(numeric_only=True), \"\\n\")\n",
    "print(\"B) Above are the covariance values for each iris species\")"
   ]
  },
  {
   "cell_type": "code",
   "execution_count": 78,
   "id": "cccc74e0-ae7e-4488-b753-a27db115d27f",
   "metadata": {},
   "outputs": [
    {
     "name": "stdout",
     "output_type": "stream",
     "text": [
      "Based on your correlation matrices in Q7 (b), highlight pairs of data columns/features that exhibit strong correlations in some iris species but weak correlations in others. \n",
      "\n",
      "\n",
      "\n",
      "\n",
      "\n",
      "For Setosa the strong positives are sepal_length and sepal_width.Weak being petal_length & sepal_length,petal_length & sepal_width,petal_width & sepal_length, and petal_width & sepal_width\n",
      "\n",
      "For Versicolor strong positives are petal_length and petal_width; another being sepal_length and petal_length\n",
      "\n",
      "For Virginica strong positives are sepal_length and petal_length. Weak being petal_width & sepal_length and petal_width & sepal_width\n",
      "\n",
      "\n",
      "\n",
      "\n",
      "What knowledge/information was hidden by the correlation matrix in Q3 (b) when no distinctions of the iris species were made?\n",
      "\n",
      "\n",
      "When no distinctions of the iris species, the information that was hidden was specific species relationships. This was only discovered by separating the dataset by its respective classes. Which then shows how drastic the correlations vary such as petal_length and width can vary. Meaning the original correlation matrix hid important information that could help the understanding the true nature of the dataset \n"
     ]
    }
   ],
   "source": [
    "print(\"Based on your correlation matrices in Q7 (b), highlight pairs of data columns/features that exhibit strong correlations in some iris species but weak correlations in others.\",\"\\n\")\n",
    "print(\"\\n\")\n",
    "print(\"\\n\")\n",
    "print(\"For Setosa the strong positives are sepal_length and sepal_width.Weak being petal_length & sepal_length,petal_length & sepal_width,petal_width & sepal_length, and petal_width & sepal_width\" \"\\n\")\n",
    "print(\"For Versicolor strong positives are petal_length and petal_width; another being sepal_length and petal_length\" \"\\n\")\n",
    "print(\"For Virginica strong positives are sepal_length and petal_length. Weak being petal_width & sepal_length and petal_width & sepal_width\")\n",
    "print(\"\\n\")\n",
    "print(\"\\n\")\n",
    "print(\"What knowledge/information was hidden by the correlation matrix in Q3 (b) when no distinctions of the iris species were made?\")\n",
    "print(\"\\n\")\n",
    "print(\"When no distinctions of the iris species, the information that was hidden was specific species relationships. This was only discovered by separating the dataset by its respective classes. Which then shows how drastic the correlations vary such as petal_length and width can vary. Meaning the original correlation matrix hid important information that could help the understanding the true nature of the dataset \")\n",
    "\n"
   ]
  },
  {
   "cell_type": "code",
   "execution_count": 82,
   "id": "01b260b4-5d44-452c-89f8-0f9450ffa06e",
   "metadata": {},
   "outputs": [
    {
     "name": "stdout",
     "output_type": "stream",
     "text": [
      "Based on the various statistics that you have obtained so far, which data column(s)/feature(s) do you think can be used to distinguish different iris species?\n",
      "\n",
      "\n",
      "\n",
      "\n",
      "Based on all the correlations, I believe that the strongest distinguishable features are petal_width and petal_length. They had a strong positive correlation in the Iris-virginica and Iris-versicolor, but had a weaker connection when it came to the other species. Even when looking at the histogram, it was visible that Iris-setosa had noticably smaller petal lengths and widths. These clear differences is what has led me to believe that these 2 features are the strongest for distinguishing between features \n"
     ]
    }
   ],
   "source": [
    "print(\"Based on the various statistics that you have obtained so far, which data column(s)/feature(s) do you think can be used to distinguish different iris species?\")\n",
    "print(\"\\n\")\n",
    "print(\"\\n\")\n",
    "print(\"Based on all the correlations, I believe that the strongest distinguishable features are petal_width and petal_length. They had a strong positive correlation in the Iris-virginica and Iris-versicolor, but had a weaker connection when it came to the other species. Even when looking at the histogram, it was visible that Iris-setosa had noticably smaller petal lengths and widths. These clear differences is what has led me to believe that these 2 features are the strongest for distinguishing between features \")"
   ]
  },
  {
   "cell_type": "code",
   "execution_count": null,
   "id": "2af6b2d0-5365-4bd4-a6a8-7757282f86a6",
   "metadata": {},
   "outputs": [],
   "source": []
  }
 ],
 "metadata": {
  "kernelspec": {
   "display_name": "Python 3 (ipykernel)",
   "language": "python",
   "name": "python3"
  },
  "language_info": {
   "codemirror_mode": {
    "name": "ipython",
    "version": 3
   },
   "file_extension": ".py",
   "mimetype": "text/x-python",
   "name": "python",
   "nbconvert_exporter": "python",
   "pygments_lexer": "ipython3",
   "version": "3.13.4"
  }
 },
 "nbformat": 4,
 "nbformat_minor": 5
}
